{
  "nbformat": 4,
  "nbformat_minor": 0,
  "metadata": {
    "colab": {
      "provenance": [],
      "gpuType": "T4"
    },
    "kernelspec": {
      "name": "python3",
      "display_name": "Python 3"
    },
    "language_info": {
      "name": "python"
    },
    "accelerator": "GPU"
  },
  "cells": [
    {
      "cell_type": "markdown",
      "source": [
        "***HEART ATTACK PREDICTION - ML MODEL ***\n",
        "BY: Ganesh Prasath A"
      ],
      "metadata": {
        "id": "3d39-9N1h93y"
      }
    },
    {
      "cell_type": "markdown",
      "source": [
        "Data loading - dataset taken from kaggle\n"
      ],
      "metadata": {
        "id": "H_XJoL6Yh8wU"
      }
    },
    {
      "cell_type": "code",
      "execution_count": null,
      "metadata": {
        "colab": {
          "base_uri": "https://localhost:8080/"
        },
        "id": "mlxMB5H4efzj",
        "outputId": "f09b0b4c-614e-4c16-c293-34b3db637dcf"
      },
      "outputs": [
        {
          "output_type": "stream",
          "name": "stdout",
          "text": [
            "<class 'pandas.core.frame.DataFrame'>\n",
            "RangeIndex: 303 entries, 0 to 302\n",
            "Data columns (total 14 columns):\n",
            " #   Column    Non-Null Count  Dtype  \n",
            "---  ------    --------------  -----  \n",
            " 0   age       303 non-null    int64  \n",
            " 1   sex       303 non-null    int64  \n",
            " 2   cp        303 non-null    int64  \n",
            " 3   trtbps    303 non-null    int64  \n",
            " 4   chol      303 non-null    int64  \n",
            " 5   fbs       303 non-null    int64  \n",
            " 6   restecg   303 non-null    int64  \n",
            " 7   thalachh  303 non-null    int64  \n",
            " 8   exng      303 non-null    int64  \n",
            " 9   oldpeak   303 non-null    float64\n",
            " 10  slp       303 non-null    int64  \n",
            " 11  caa       303 non-null    int64  \n",
            " 12  thall     303 non-null    int64  \n",
            " 13  output    303 non-null    int64  \n",
            "dtypes: float64(1), int64(13)\n",
            "memory usage: 33.3 KB\n"
          ]
        },
        {
          "output_type": "execute_result",
          "data": {
            "text/plain": [
              "(None,\n",
              "    age  sex  cp  trtbps  chol  fbs  restecg  thalachh  exng  oldpeak  slp  \\\n",
              " 0   63    1   3     145   233    1        0       150     0      2.3    0   \n",
              " 1   37    1   2     130   250    0        1       187     0      3.5    0   \n",
              " 2   41    0   1     130   204    0        0       172     0      1.4    2   \n",
              " 3   56    1   1     120   236    0        1       178     0      0.8    2   \n",
              " 4   57    0   0     120   354    0        1       163     1      0.6    2   \n",
              " \n",
              "    caa  thall  output  \n",
              " 0    0      1       1  \n",
              " 1    0      2       1  \n",
              " 2    0      2       1  \n",
              " 3    0      2       1  \n",
              " 4    0      2       1  ,\n",
              "               age         sex          cp      trtbps        chol         fbs  \\\n",
              " count  303.000000  303.000000  303.000000  303.000000  303.000000  303.000000   \n",
              " mean    54.366337    0.683168    0.966997  131.623762  246.264026    0.148515   \n",
              " std      9.082101    0.466011    1.032052   17.538143   51.830751    0.356198   \n",
              " min     29.000000    0.000000    0.000000   94.000000  126.000000    0.000000   \n",
              " 25%     47.500000    0.000000    0.000000  120.000000  211.000000    0.000000   \n",
              " 50%     55.000000    1.000000    1.000000  130.000000  240.000000    0.000000   \n",
              " 75%     61.000000    1.000000    2.000000  140.000000  274.500000    0.000000   \n",
              " max     77.000000    1.000000    3.000000  200.000000  564.000000    1.000000   \n",
              " \n",
              "           restecg    thalachh        exng     oldpeak         slp         caa  \\\n",
              " count  303.000000  303.000000  303.000000  303.000000  303.000000  303.000000   \n",
              " mean     0.528053  149.646865    0.326733    1.039604    1.399340    0.729373   \n",
              " std      0.525860   22.905161    0.469794    1.161075    0.616226    1.022606   \n",
              " min      0.000000   71.000000    0.000000    0.000000    0.000000    0.000000   \n",
              " 25%      0.000000  133.500000    0.000000    0.000000    1.000000    0.000000   \n",
              " 50%      1.000000  153.000000    0.000000    0.800000    1.000000    0.000000   \n",
              " 75%      1.000000  166.000000    1.000000    1.600000    2.000000    1.000000   \n",
              " max      2.000000  202.000000    1.000000    6.200000    2.000000    4.000000   \n",
              " \n",
              "             thall      output  \n",
              " count  303.000000  303.000000  \n",
              " mean     2.313531    0.544554  \n",
              " std      0.612277    0.498835  \n",
              " min      0.000000    0.000000  \n",
              " 25%      2.000000    0.000000  \n",
              " 50%      2.000000    1.000000  \n",
              " 75%      3.000000    1.000000  \n",
              " max      3.000000    1.000000  )"
            ]
          },
          "metadata": {},
          "execution_count": 1
        }
      ],
      "source": [
        "import pandas as pd\n",
        "\n",
        "file_path = 'heart.csv'\n",
        "df = pd.read_csv(file_path)\n",
        "\n",
        "df_info = df.info()\n",
        "df_head = df.head()\n",
        "df_describe = df.describe()\n",
        "\n",
        "df_info, df_head, df_describe"
      ]
    },
    {
      "cell_type": "markdown",
      "source": [
        "***Data analysis***"
      ],
      "metadata": {
        "id": "zbLnLm64fNK8"
      }
    },
    {
      "cell_type": "code",
      "source": [
        "missing_values_count = df.isnull().sum()\n",
        "missing_values_count"
      ],
      "metadata": {
        "colab": {
          "base_uri": "https://localhost:8080/"
        },
        "id": "mpmO5wiZfUoT",
        "outputId": "86a0716f-39ae-4d83-d031-6897f9f7aa1c"
      },
      "execution_count": null,
      "outputs": [
        {
          "output_type": "execute_result",
          "data": {
            "text/plain": [
              "age         0\n",
              "sex         0\n",
              "cp          0\n",
              "trtbps      0\n",
              "chol        0\n",
              "fbs         0\n",
              "restecg     0\n",
              "thalachh    0\n",
              "exng        0\n",
              "oldpeak     0\n",
              "slp         0\n",
              "caa         0\n",
              "thall       0\n",
              "output      0\n",
              "dtype: int64"
            ]
          },
          "metadata": {},
          "execution_count": 2
        }
      ]
    },
    {
      "cell_type": "markdown",
      "source": [
        "Fitting the data"
      ],
      "metadata": {
        "id": "xoMAwMg1krFb"
      }
    },
    {
      "cell_type": "code",
      "source": [
        "from sklearn.model_selection import train_test_split\n",
        "from sklearn.preprocessing import StandardScaler\n",
        "\n",
        "\n",
        "X = df.drop('output', axis=1)\n",
        "y = df['output']\n",
        "\n",
        "# Normalize the features using StandardScaler\n",
        "scaler = StandardScaler()\n",
        "X_scaled = scaler.fit_transform(X)\n",
        "#train test split\n",
        "X_train, X_test, y_train, y_test = train_test_split(X_scaled, y, test_size=0.2, random_state=42)\n",
        "X_train.shape, X_test.shape, y_train.shape, y_test.shape"
      ],
      "metadata": {
        "colab": {
          "base_uri": "https://localhost:8080/"
        },
        "id": "qiR6PWyVfhiM",
        "outputId": "916ace52-aa9c-4e5f-8655-5b087a40188a"
      },
      "execution_count": null,
      "outputs": [
        {
          "output_type": "execute_result",
          "data": {
            "text/plain": [
              "((242, 13), (61, 13), (242,), (61,))"
            ]
          },
          "metadata": {},
          "execution_count": 3
        }
      ]
    },
    {
      "cell_type": "markdown",
      "source": [
        "Models"
      ],
      "metadata": {
        "id": "kcopx905fqW8"
      }
    },
    {
      "cell_type": "code",
      "source": [
        "from sklearn.linear_model import LogisticRegression\n",
        "from sklearn.neighbors import KNeighborsClassifier\n",
        "from sklearn.svm import SVC\n",
        "from sklearn.tree import DecisionTreeClassifier\n",
        "from sklearn.ensemble import RandomForestClassifier\n",
        "from sklearn.metrics import accuracy_score\n",
        "\n",
        "# Initialize models\n",
        "models = {\n",
        "    'Logistic Regression': LogisticRegression(random_state=42),\n",
        "    'K-Nearest Neighbors': KNeighborsClassifier(),\n",
        "    'Support Vector Machine': SVC(random_state=42),\n",
        "    'Decision Tree': DecisionTreeClassifier(random_state=42),\n",
        "    'Random Forest': RandomForestClassifier(random_state=42)\n",
        "}\n",
        "\n",
        "\n",
        "model_accuracies = {}\n",
        "\n",
        "# Train and evaluate each model\n",
        "for model_name, model in models.items():\n",
        "\n",
        "    model.fit(X_train, y_train)\n",
        "    y_pred = model.predict(X_test)\n",
        "\n",
        "    accuracy = accuracy_score(y_test, y_pred)\n",
        "\n",
        "    model_accuracies[model_name] = accuracy\n",
        "\n",
        "model_accuracies\n"
      ],
      "metadata": {
        "colab": {
          "base_uri": "https://localhost:8080/"
        },
        "id": "qSrc5QtgfsUE",
        "outputId": "9e0f271a-747e-469f-e37f-a2c9e94f6730"
      },
      "execution_count": null,
      "outputs": [
        {
          "output_type": "execute_result",
          "data": {
            "text/plain": [
              "{'Logistic Regression': 0.8524590163934426,\n",
              " 'K-Nearest Neighbors': 0.9180327868852459,\n",
              " 'Support Vector Machine': 0.8688524590163934,\n",
              " 'Decision Tree': 0.7540983606557377,\n",
              " 'Random Forest': 0.8360655737704918}"
            ]
          },
          "metadata": {},
          "execution_count": 4
        }
      ]
    },
    {
      "cell_type": "markdown",
      "source": [
        "The K-Nearest Neighbors seems to be the best model for this particular dataset. So we will be continuing with KNN."
      ],
      "metadata": {
        "id": "0OBhiNLXkxIN"
      }
    },
    {
      "cell_type": "markdown",
      "source": [
        "Hyperparameter Tuning"
      ],
      "metadata": {
        "id": "tDCAd5uNfzCD"
      }
    },
    {
      "cell_type": "code",
      "source": [
        "from sklearn.model_selection import GridSearchCV\n",
        "import numpy as np\n",
        "\n",
        "# Initialize KNN model\n",
        "knn = KNeighborsClassifier()\n",
        "\n",
        "param_grid = {\n",
        "    'n_neighbors': np.arange(1, 21),  # Number of neighbors\n",
        "    'weights': ['uniform', 'distance'],  # Weight function\n",
        "    'metric': ['euclidean', 'manhattan', 'minkowski']  # Distance metric\n",
        "}\n",
        "\n",
        "grid_search = GridSearchCV(knn, param_grid, cv=5, scoring='accuracy')\n",
        "\n",
        "grid_search.fit(X_train, y_train)\n",
        "\n",
        "# Best accuracy\n",
        "best_params = grid_search.best_params_\n",
        "best_accuracy = grid_search.best_score_\n",
        "\n",
        "best_params, best_accuracy\n"
      ],
      "metadata": {
        "colab": {
          "base_uri": "https://localhost:8080/"
        },
        "id": "ulFF2YHwf-Nz",
        "outputId": "40add34e-6f23-4a92-8893-5dbe2951f7fd"
      },
      "execution_count": null,
      "outputs": [
        {
          "output_type": "execute_result",
          "data": {
            "text/plain": [
              "({'metric': 'manhattan', 'n_neighbors': 8, 'weights': 'distance'},\n",
              " 0.842687074829932)"
            ]
          },
          "metadata": {},
          "execution_count": 5
        }
      ]
    },
    {
      "cell_type": "code",
      "source": [
        "# Initialize KNN model with default parameters\n",
        "knn_default = KNeighborsClassifier()\n",
        "knn_default.fit(X_train, y_train)\n",
        "y_pred_default = knn_default.predict(X_test)\n",
        "default_accuracy = accuracy_score(y_test, y_pred_default)\n",
        "\n",
        "# Initialize KNN model with best parameters\n",
        "knn_best = KNeighborsClassifier(metric='manhattan', n_neighbors=8, weights='distance')\n",
        "knn_best.fit(X_train, y_train)\n",
        "y_pred_best = knn_best.predict(X_test)\n",
        "best_accuracy_test = accuracy_score(y_test, y_pred_best)\n",
        "\n",
        "default_accuracy, best_accuracy_test\n"
      ],
      "metadata": {
        "colab": {
          "base_uri": "https://localhost:8080/"
        },
        "id": "j78L2COygHk9",
        "outputId": "0032504e-d2e7-4358-dd72-dcdaef8a0d89"
      },
      "execution_count": null,
      "outputs": [
        {
          "output_type": "execute_result",
          "data": {
            "text/plain": [
              "(0.9180327868852459, 0.8852459016393442)"
            ]
          },
          "metadata": {},
          "execution_count": 6
        }
      ]
    },
    {
      "cell_type": "markdown",
      "source": [
        "Checking for overfitting and underfitting"
      ],
      "metadata": {
        "id": "zpfNEjHUgUPf"
      }
    },
    {
      "cell_type": "code",
      "source": [
        "#  accuracy of the default KNN model on the training set\n",
        "y_pred_train_default = knn_default.predict(X_train)\n",
        "train_accuracy_default = accuracy_score(y_train, y_pred_train_default)\n",
        "\n",
        "#  accuracy of the optimized KNN model\n",
        "y_pred_train_best = knn_best.predict(X_train)\n",
        "train_accuracy_best = accuracy_score(y_train, y_pred_train_best)\n",
        "\n",
        "#  comparison of accuracy\n",
        "accuracy_comparison = {\n",
        "    'Model': ['Default KNN', 'Optimized KNN'],\n",
        "    'Train Accuracy': [train_accuracy_default, train_accuracy_best],\n",
        "    'Test Accuracy': [default_accuracy, best_accuracy_test]\n",
        "}\n",
        "\n",
        "accuracy_comparison_df = pd.DataFrame(accuracy_comparison)\n",
        "accuracy_comparison_df\n"
      ],
      "metadata": {
        "colab": {
          "base_uri": "https://localhost:8080/",
          "height": 245
        },
        "id": "wYw62D3jgZYr",
        "outputId": "65fbdd6b-8549-4a2c-aae2-045b58fcd0c9"
      },
      "execution_count": null,
      "outputs": [
        {
          "output_type": "error",
          "ename": "NameError",
          "evalue": "ignored",
          "traceback": [
            "\u001b[0;31m---------------------------------------------------------------------------\u001b[0m",
            "\u001b[0;31mNameError\u001b[0m                                 Traceback (most recent call last)",
            "\u001b[0;32m<ipython-input-1-2b7b148da89f>\u001b[0m in \u001b[0;36m<cell line: 2>\u001b[0;34m()\u001b[0m\n\u001b[1;32m      1\u001b[0m \u001b[0;31m#  accuracy of the default KNN model on the training set\u001b[0m\u001b[0;34m\u001b[0m\u001b[0;34m\u001b[0m\u001b[0m\n\u001b[0;32m----> 2\u001b[0;31m \u001b[0my_pred_train_default\u001b[0m \u001b[0;34m=\u001b[0m \u001b[0mknn_default\u001b[0m\u001b[0;34m.\u001b[0m\u001b[0mpredict\u001b[0m\u001b[0;34m(\u001b[0m\u001b[0mX_train\u001b[0m\u001b[0;34m)\u001b[0m\u001b[0;34m\u001b[0m\u001b[0;34m\u001b[0m\u001b[0m\n\u001b[0m\u001b[1;32m      3\u001b[0m \u001b[0mtrain_accuracy_default\u001b[0m \u001b[0;34m=\u001b[0m \u001b[0maccuracy_score\u001b[0m\u001b[0;34m(\u001b[0m\u001b[0my_train\u001b[0m\u001b[0;34m,\u001b[0m \u001b[0my_pred_train_default\u001b[0m\u001b[0;34m)\u001b[0m\u001b[0;34m\u001b[0m\u001b[0;34m\u001b[0m\u001b[0m\n\u001b[1;32m      4\u001b[0m \u001b[0;34m\u001b[0m\u001b[0m\n\u001b[1;32m      5\u001b[0m \u001b[0;31m#  accuracy of the optimized KNN model\u001b[0m\u001b[0;34m\u001b[0m\u001b[0;34m\u001b[0m\u001b[0m\n",
            "\u001b[0;31mNameError\u001b[0m: name 'knn_default' is not defined"
          ]
        }
      ]
    },
    {
      "cell_type": "markdown",
      "source": [
        "Parameters"
      ],
      "metadata": {
        "id": "YleEWKxqg4mm"
      }
    },
    {
      "cell_type": "code",
      "source": [
        "\n",
        "from sklearn.metrics import recall_score, f1_score, precision_score\n",
        "\n",
        "#  Recall, F1 Score, and Precision for the default KNN model\n",
        "recall = recall_score(y_test, y_pred_default)\n",
        "f1 = f1_score(y_test, y_pred_default)\n",
        "precision = precision_score(y_test, y_pred_default)\n",
        "\n",
        "recall, f1, precision\n",
        "\n"
      ],
      "metadata": {
        "colab": {
          "base_uri": "https://localhost:8080/",
          "height": 245
        },
        "id": "gG0ojtbPg6rb",
        "outputId": "39371a16-8c9b-4d64-b906-80c9c0bd18c4"
      },
      "execution_count": null,
      "outputs": [
        {
          "output_type": "error",
          "ename": "NameError",
          "evalue": "ignored",
          "traceback": [
            "\u001b[0;31m---------------------------------------------------------------------------\u001b[0m",
            "\u001b[0;31mNameError\u001b[0m                                 Traceback (most recent call last)",
            "\u001b[0;32m<ipython-input-1-987dc4ffebe7>\u001b[0m in \u001b[0;36m<cell line: 4>\u001b[0;34m()\u001b[0m\n\u001b[1;32m      2\u001b[0m \u001b[0;34m\u001b[0m\u001b[0m\n\u001b[1;32m      3\u001b[0m \u001b[0;31m#  Recall, F1 Score, and Precision for the default KNN model\u001b[0m\u001b[0;34m\u001b[0m\u001b[0;34m\u001b[0m\u001b[0m\n\u001b[0;32m----> 4\u001b[0;31m \u001b[0mrecall\u001b[0m \u001b[0;34m=\u001b[0m \u001b[0mrecall_score\u001b[0m\u001b[0;34m(\u001b[0m\u001b[0my_test\u001b[0m\u001b[0;34m,\u001b[0m \u001b[0my_pred_default\u001b[0m\u001b[0;34m)\u001b[0m\u001b[0;34m\u001b[0m\u001b[0;34m\u001b[0m\u001b[0m\n\u001b[0m\u001b[1;32m      5\u001b[0m \u001b[0mf1\u001b[0m \u001b[0;34m=\u001b[0m \u001b[0mf1_score\u001b[0m\u001b[0;34m(\u001b[0m\u001b[0my_test\u001b[0m\u001b[0;34m,\u001b[0m \u001b[0my_pred_default\u001b[0m\u001b[0;34m)\u001b[0m\u001b[0;34m\u001b[0m\u001b[0;34m\u001b[0m\u001b[0m\n\u001b[1;32m      6\u001b[0m \u001b[0mprecision\u001b[0m \u001b[0;34m=\u001b[0m \u001b[0mprecision_score\u001b[0m\u001b[0;34m(\u001b[0m\u001b[0my_test\u001b[0m\u001b[0;34m,\u001b[0m \u001b[0my_pred_default\u001b[0m\u001b[0;34m)\u001b[0m\u001b[0;34m\u001b[0m\u001b[0;34m\u001b[0m\u001b[0m\n",
            "\u001b[0;31mNameError\u001b[0m: name 'y_test' is not defined"
          ]
        }
      ]
    },
    {
      "cell_type": "markdown",
      "source": [],
      "metadata": {
        "id": "vBgYuGXagfmk"
      }
    },
    {
      "cell_type": "markdown",
      "source": [
        "Confusion matrix"
      ],
      "metadata": {
        "id": "jkZZKCINgnKs"
      }
    },
    {
      "cell_type": "code",
      "source": [
        "\n",
        "import matplotlib.pyplot as plt\n",
        "import seaborn as sns\n",
        "from sklearn.metrics import confusion_matrix\n",
        "\n",
        "# Confusion Matrix for the default KNN model\n",
        "plt.figure(figsize=(6, 6))\n",
        "conf_matrix = confusion_matrix(y_test, y_pred_default)\n",
        "sns.heatmap(conf_matrix, annot=True, fmt='d', cmap='Blues',\n",
        "            xticklabels=['No Heart Attack', 'Heart Attack'],\n",
        "            yticklabels=['No Heart Attack', 'Heart Attack'])\n",
        "plt.title('Confusion Matrix - Default KNN')\n",
        "plt.xlabel('Predicted Label')\n",
        "plt.ylabel('True Label')\n",
        "\n"
      ],
      "metadata": {
        "colab": {
          "base_uri": "https://localhost:8080/",
          "height": 581
        },
        "id": "nffvGddugpZj",
        "outputId": "8446a972-ac4f-4113-bdd4-3ffaf605c4d7"
      },
      "execution_count": null,
      "outputs": [
        {
          "output_type": "execute_result",
          "data": {
            "text/plain": [
              "Text(45.72222222222221, 0.5, 'True Label')"
            ]
          },
          "metadata": {},
          "execution_count": 9
        },
        {
          "output_type": "display_data",
          "data": {
            "text/plain": [
              "<Figure size 600x600 with 2 Axes>"
            ],
            "image/png": "[encoded data removed]"
          },
          "metadata": {}
        }
      ]
    },
    {
      "cell_type": "markdown",
      "source": [
        "**Predicting heart attack risk for an user**"
      ],
      "metadata": {
        "id": "aZKH4Ue6kCiC"
      }
    },
    {
      "cell_type": "code",
      "source": [
        "\n",
        "def explain_risk_factors(user_input):\n",
        "    explanations = []\n",
        "\n",
        "    low_risk_ranges = {\n",
        "        'age': (30, 50),\n",
        "        'trtbps': (90, 120),\n",
        "        'chol': (150, 200),\n",
        "        'fbs': (0, 0),\n",
        "        'thalachh': (140, 190),\n",
        "        'oldpeak': (0, 1),\n",
        "        'caa': (0, 0)\n",
        "    }\n",
        "\n",
        "    for param, (low, high) in low_risk_ranges.items():\n",
        "        value = user_input.get(param)\n",
        "\n",
        "        if value is not None and (value < low or value > high):\n",
        "            explanations.append(f\"- {param.upper()} is not in the ideal range.\")\n",
        "\n",
        "    return explanations\n",
        "\n",
        "#user input\n",
        "def predict_heart_attack_risk():\n",
        "    user_name, user_input = get_user_input()\n",
        "\n",
        "\n",
        "    for key, value in user_input.items():\n",
        "        if value is None:\n",
        "            user_input[key] = df[key].median()\n",
        "\n",
        "\n",
        "    user_df = pd.DataFrame([user_input], columns=X.columns)\n",
        "\n",
        "    # Normalizing\n",
        "    user_scaled = scaler.transform(user_df)\n",
        "\n",
        "    # prediction\n",
        "    prediction = knn_default.predict(user_scaled)\n",
        "    prediction_prob = knn_default.predict_proba(user_scaled)\n",
        "\n",
        "    # risk percentage\n",
        "    risk_percentage = prediction_prob[0][1] * 100\n",
        "\n",
        "    result = f\"{user_name}, our model predicts that you have {'a high' if prediction[0] == 1 else 'a low'} risk of experiencing a heart attack. Your risk percentage is {risk_percentage:.2f}%.\"\n",
        "\n",
        "    # Explain high-risk factors\n",
        "    if prediction[0] == 1:\n",
        "        result += \"\\n\\nFactors contributing to high risk:\"\n",
        "        risk_factors = explain_risk_factors(user_input)\n",
        "\n",
        "        if risk_factors:\n",
        "            result += \"\\n\" + \"\\n\".join(risk_factors)\n",
        "        else:\n",
        "            result += \"\\n- No specific factors identified (consult a healthcare provider for a comprehensive evaluation).\"\n",
        "\n",
        "    return result\n",
        "\n",
        "# Test the function by asking for user input and making a prediction\n",
        "print(predict_heart_attack_risk())\n",
        "1"
      ],
      "metadata": {
        "colab": {
          "base_uri": "https://localhost:8080/"
        },
        "id": "IvCl7zrTi1nM",
        "outputId": "5f7318d9-0198-4468-8de3-c3dba76871bb"
      },
      "execution_count": null,
      "outputs": [
        {
          "output_type": "stream",
          "name": "stdout",
          "text": [
            "Please enter your name: user1\n",
            "Please enter your health parameters. If you don't know a parameter, type 'unknown'.\n",
            "age (Age in years (e.g., 45)): 20\n",
            "sex (Sex (Male: 1, Female: 0)): 1\n",
            "cp (Chest Pain Type (0-3; 0: Typical Angina, 1: Atypical Angina, etc.)): 1\n",
            "trtbps (Resting Blood Pressure in mm Hg (e.g., 130)): 200\n",
            "chol (Cholesterol Level in mg/dl (e.g., 250)): 250\n",
            "fbs (Fasting Blood Sugar (>120 mg/dl: 1, <=120 mg/dl: 0)): 0\n",
            "restecg (Resting ECG (0-2; 0: Normal, 1: ST-T wave abnormality, etc.)): 1\n",
            "thalachh (Maximum Heart Rate Achieved (e.g., 160)): 170\n",
            "exng (Exercise-Induced Angina (Yes: 1, No: 0)): 1\n",
            "oldpeak (Oldpeak (ST depression induced by exercise; e.g., 1.5)): unknown\n",
            "slp (Slope (0-2; 0: Upsloping, 1: Flat, 2: Downsloping)): 1\n",
            "caa (Number of Major Vessels colored by fluoroscopy (0-4)): 2\n",
            "thall (Thalassemia (0-3; 0: Normal, 1: Fixed defect, etc.)): 1\n",
            "user1, our model predicts that you have a high risk of experiencing a heart attack. Your risk percentage is 80.00%.\n",
            "\n",
            "Factors contributing to high risk:\n",
            "- AGE is not in the ideal range.\n",
            "- TRTBPS is not in the ideal range.\n",
            "- CHOL is not in the ideal range.\n",
            "- CAA is not in the ideal range.\n"
          ]
        },
        {
          "output_type": "execute_result",
          "data": {
            "text/plain": [
              "1"
            ]
          },
          "metadata": {},
          "execution_count": 25
        }
      ]
    },
    {
      "cell_type": "markdown",
      "source": [],
      "metadata": {
        "id": "5PDPQ8_afvuc"
      }
    }
  ]
}